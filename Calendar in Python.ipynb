{
 "cells": [
  {
   "cell_type": "code",
   "execution_count": 1,
   "id": "63bb35dc",
   "metadata": {},
   "outputs": [
    {
     "name": "stdout",
     "output_type": "stream",
     "text": [
      "Enter a month (1-12): 5\n",
      "Enter a year: 2005\n",
      "      May 2005\n",
      "Su Mo Tu We Th Fr Sa\n",
      " 1  2  3  4  5  6  7\n",
      " 8  9 10 11 12 13 14\n",
      "15 16 17 18 19 20 21\n",
      "22 23 24 25 26 27 28\n",
      "29 30 31\n"
     ]
    }
   ],
   "source": [
    "import calendar\n",
    "import datetime\n",
    "\n",
    "def generate_calendar(month, year):\n",
    "\n",
    "  # Create a calendar object for the given month and year.\n",
    "  calendar_obj = calendar.TextCalendar(firstweekday=calendar.SUNDAY)\n",
    "\n",
    "  # Generate the calendar.\n",
    "  calendar_text = calendar_obj.formatmonth(year, month)\n",
    "\n",
    "  # Return the calendar as a list of strings.\n",
    "  return calendar_text.splitlines()\n",
    "\n",
    "# Prompt the user to enter a month and year\n",
    "month = int(input(\"Enter a month (1-12): \"))\n",
    "year = int(input(\"Enter a year: \"))\n",
    "\n",
    "# Generate the calendar for the given month and year\n",
    "calendar_text = generate_calendar(month, year)\n",
    "\n",
    "# Display the calendar to the user\n",
    "for line in calendar_text:\n",
    "     print(line)"
   ]
  }
 ],
 "metadata": {
  "kernelspec": {
   "display_name": "Python 3 (ipykernel)",
   "language": "python",
   "name": "python3"
  },
  "language_info": {
   "codemirror_mode": {
    "name": "ipython",
    "version": 3
   },
   "file_extension": ".py",
   "mimetype": "text/x-python",
   "name": "python",
   "nbconvert_exporter": "python",
   "pygments_lexer": "ipython3",
   "version": "3.9.12"
  }
 },
 "nbformat": 4,
 "nbformat_minor": 5
}
